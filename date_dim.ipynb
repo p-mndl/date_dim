{
 "cells": [
  {
   "cell_type": "code",
   "execution_count": 1,
   "id": "16b5f927",
   "metadata": {},
   "outputs": [],
   "source": [
    "import polars as pl\n",
    "import datetime as dt"
   ]
  },
  {
   "cell_type": "code",
   "execution_count": 2,
   "id": "61cbaced",
   "metadata": {},
   "outputs": [],
   "source": [
    "dt_from = dt.date(2020, 1, 1)\n",
    "dt_to = dt.date(2030, 12, 31)"
   ]
  },
  {
   "cell_type": "code",
   "execution_count": 3,
   "id": "b272324f",
   "metadata": {},
   "outputs": [],
   "source": [
    "date_series = pl.date_range(\n",
    "    dt_from,\n",
    "    dt_to,\n",
    "    '1d',\n",
    "    eager=True\n",
    ")"
   ]
  },
  {
   "cell_type": "code",
   "execution_count": 4,
   "id": "66644cad",
   "metadata": {},
   "outputs": [],
   "source": [
    "df = date_series.to_frame('date').lazy()"
   ]
  },
  {
   "cell_type": "code",
   "execution_count": 5,
   "id": "b4b614b8",
   "metadata": {},
   "outputs": [],
   "source": [
    "mapping_weekday_short = {\n",
    "    1: 'Mo',\n",
    "    2: 'Di',\n",
    "    3: 'Mi',\n",
    "    4: 'Do',\n",
    "    5: 'Fr',\n",
    "    6: 'Sa',\n",
    "    7: 'So'\n",
    "}\n",
    "mapping_weekday_long = {\n",
    "    1: 'Montag',\n",
    "    2: 'Dienstag',\n",
    "    3: 'Mittwoch',\n",
    "    4: 'Donnerstag',\n",
    "    5: 'Freitag',\n",
    "    6: 'Samstag',\n",
    "    7: 'Sonntag'\n",
    "}\n",
    "mapping_month_short = {\n",
    "    1: 'Jan',\n",
    "    2: 'Feb',\n",
    "    3: 'Mrz',\n",
    "    4: 'Apr',\n",
    "    5: 'Mai',\n",
    "    6: 'Jun',\n",
    "    7: 'Jul',\n",
    "    8: 'Aug',\n",
    "    9: 'Sep',\n",
    "    10: 'Okt',\n",
    "    11: 'Nov',\n",
    "    12: 'Dez'\n",
    "}\n",
    "mapping_month_long = {\n",
    "    1: 'Januar',\n",
    "    2: 'Februar',\n",
    "    3: 'März',\n",
    "    4: 'April',\n",
    "    5: 'Mai',\n",
    "    6: 'Juni',\n",
    "    7: 'Juli',\n",
    "    8: 'August',\n",
    "    9: 'September',\n",
    "    10: 'Oktober',\n",
    "    11: 'November',\n",
    "    12: 'Dezember'\n",
    "}"
   ]
  },
  {
   "cell_type": "code",
   "execution_count": 10,
   "id": "c319f99f",
   "metadata": {},
   "outputs": [],
   "source": [
    "df_date = (df\n",
    "            .with_columns(\n",
    "               pk_Datum = 'date',\n",
    "               Datum_DIN = pl.col('date').dt.to_string('iso'),\n",
    "               Tag_im_Monat = pl.col('date').dt.day(),\n",
    "               Tag_im_Jahr = pl.col('date').dt.ordinal_day(),\n",
    "               Wochentag_numerisch = pl.col('date').dt.weekday(),\n",
    "               Wochentag_kurz = pl.col('date').dt.weekday().replace_strict(mapping_weekday_short),\n",
    "               Wochentag_lang = pl.col('date').dt.weekday().replace_strict(mapping_weekday_long),\n",
    "               Quartal_numerisch = pl.col('date').dt.quarter(),\n",
    "               Quartal_lang = pl.col('date').dt.quarter().cast(pl.String) + '. Quartal',\n",
    "               Quartal_kurz = 'Q' + pl.col('date').dt.quarter().cast(pl.String),\n",
    "               Quartal_Jahr = pl.col('date').dt.year().cast(pl.String) + '-Q' + pl.col('date').dt.quarter().cast(pl.String),\n",
    "               Quartal_Ende = pl.date(pl.col('date').dt.year(), pl.col('date').dt.quarter() * 3, 1).dt.month_end(), #end of quarter\n",
    "               Quartal_Anfang = pl.date(pl.col('date').dt.year(), (pl.col('date').dt.quarter() * 3) - 2, 1).dt.month_start(), #begin of quarter\n",
    "               Kalenderwoche_numerisch = pl.col('date').dt.week(),\n",
    "               Kalenderwoche_kurz = 'KW ' + pl.col('date').dt.week().cast(pl.String).str.zfill(2),\n",
    "               Kalenderwoche_Jahr = pl.col('date').dt.year().cast(pl.String) + ' | KW ' + pl.col('date').dt.week().cast(pl.String).str.zfill(2),\n",
    "               Kalenderwoche_Anfang = pl.col('date').dt.offset_by('-' + ((pl.col('date').dt.weekday()) - 1).cast(pl.String) + 'd'),\n",
    "               Kalenderwoche_Ende = pl.col('date').dt.offset_by((7 - (pl.col('date').dt.weekday())).cast(pl.String) + 'd'),\n",
    "               Jahr = pl.col('date').dt.year(),\n",
    "               Jahr_Anfang = pl.date(pl.col('date').dt.year(), 1, 1),\n",
    "               Jahr_Ende = pl.date(pl.col('date').dt.year(), 12, 31),\n",
    "               Monat_numerisch = pl.col('date').dt.month(),\n",
    "               Monat_kurz = pl.col('date').dt.month().replace_strict(mapping_month_short),\n",
    "               Monat_lang = pl.col('date').dt.month().replace_strict(mapping_month_long),\n",
    "               Monat_Anfang = pl.date(pl.col('date').dt.year(), pl.col('date').dt.month(), 1),\n",
    "            )\n",
    "            .with_columns(\n",
    "               Tag_im_Quartal = (pl.col('date') - pl.col('Quartal_Anfang')).dt.total_days() + 1, #day count in current quarter\n",
    "               Monat_Jahr_kurz = pl.col('Monat_kurz') + ' ' + pl.col('Jahr').cast(pl.String),\n",
    "               Monat_Jahr_lang = pl.col('Monat_lang') + ' ' + pl.col('Jahr').cast(pl.String),\n",
    "               Monat_Jahr_numerisch = pl.col('Monat_numerisch').cast(pl.String).str.zfill(2) + '/' + pl.col('Jahr').cast(pl.String),\n",
    "               Monat_Ende = pl.col('Monat_Anfang').dt.month_end(),               \n",
    "            )\n",
    "            .with_columns(                \n",
    "                Tag_Folgetag = pl.col('date').dt.offset_by('1d'),\n",
    "                Tag_Folgewoche = pl.col('date').dt.offset_by('1w'),\n",
    "                Tag_Folgemonat = pl.col('date').dt.offset_by('1m'),\n",
    "                Tag_FolgeJahr = pl.col('date').dt.offset_by('1y'),\n",
    "                Tag_Vortag = pl.col('date').dt.offset_by('-1d'),\n",
    "                Tag_Vorwoche = pl.col('date').dt.offset_by('-1w'),\n",
    "                Tag_Vormonat = pl.col('date').dt.offset_by('-1m'),\n",
    "                Tag_Vorjahr = pl.col('date').dt.offset_by('-1y'),\n",
    "                Monat_Anzahl_Tage = pl.col('Monat_Ende').dt.day(),\n",
    "                Heute = pl.lit(dt.datetime.today().date()),\n",
    "                Ist_Diesen_Monat = (pl.col('date') >= pl.col('Monat_Anfang')) & (pl.col('date') <= pl.col('Monat_Ende')),\n",
    "                Ist_Diese_Woche = (pl.col('date') >= pl.col('Kalenderwoche_Anfang')) & (pl.col('date') <= pl.col('Kalenderwoche_Ende')),\n",
    "                Ist_Dieses_Quartal = (pl.col('date') >= pl.col('Quartal_Anfang')) & (pl.col('date') <= pl.col('Quartal_Ende')),\n",
    "                Ist_Dieses_Jahr = (pl.col('date') >= pl.col('Jahr_Anfang')) & (pl.col('date') <= pl.col('Jahr_Ende'))\n",
    "            )\n",
    "            .with_columns(\n",
    "                Ist_Heute = pl.col('date') == pl.col('Heute')                \n",
    "            )\n",
    "            .select(pl.exclude('date'))\n",
    "           )"
   ]
  },
  {
   "cell_type": "code",
   "execution_count": 11,
   "id": "e2a5c13a",
   "metadata": {},
   "outputs": [
    {
     "data": {
      "text/html": [
       "<div><style>\n",
       ".dataframe > thead > tr,\n",
       ".dataframe > tbody > tr {\n",
       "  text-align: right;\n",
       "  white-space: pre-wrap;\n",
       "}\n",
       "</style>\n",
       "<small>shape: (4_018, 45)</small><table border=\"1\" class=\"dataframe\"><thead><tr><th>pk_Datum</th><th>Datum_DIN</th><th>Tag_im_Monat</th><th>Tag_im_Jahr</th><th>Wochentag_numerisch</th><th>Wochentag_kurz</th><th>Wochentag_lang</th><th>Quartal_numerisch</th><th>Quartal_lang</th><th>Quartal_kurz</th><th>Quartal_Jahr</th><th>Quartal_Ende</th><th>Quartal_Anfang</th><th>Kalenderwoche_numerisch</th><th>Kalenderwoche_kurz</th><th>Kalenderwoche_Jahr</th><th>Kalenderwoche_Anfang</th><th>Kalenderwoche_Ende</th><th>Jahr</th><th>Jahr_Anfang</th><th>Jahr_Ende</th><th>Monat_numerisch</th><th>Monat_kurz</th><th>Monat_lang</th><th>Monat_Anfang</th><th>Tag_im_Quartal</th><th>Monat_Jahr_kurz</th><th>Monat_Jahr_lang</th><th>Monat_Jahr_numerisch</th><th>Monat_Ende</th><th>Tag_Folgetag</th><th>Tag_Folgewoche</th><th>Tag_Folgemonat</th><th>Tag_FolgeJahr</th><th>Tag_Vortag</th><th>Tag_Vorwoche</th><th>Tag_Vormonat</th><th>Tag_Vorjahr</th><th>Monat_Anzahl_Tage</th><th>Heute</th><th>Ist_Diesen_Monat</th><th>Ist_Diese_Woche</th><th>Ist_Dieses_Quartal</th><th>Ist_Dieses_Jahr</th><th>Ist_Heute</th></tr><tr><td>date</td><td>str</td><td>i8</td><td>i16</td><td>i8</td><td>str</td><td>str</td><td>i8</td><td>str</td><td>str</td><td>str</td><td>date</td><td>date</td><td>i8</td><td>str</td><td>str</td><td>date</td><td>date</td><td>i32</td><td>date</td><td>date</td><td>i8</td><td>str</td><td>str</td><td>date</td><td>i64</td><td>str</td><td>str</td><td>str</td><td>date</td><td>date</td><td>date</td><td>date</td><td>date</td><td>date</td><td>date</td><td>date</td><td>date</td><td>i8</td><td>date</td><td>bool</td><td>bool</td><td>bool</td><td>bool</td><td>bool</td></tr></thead><tbody><tr><td>2020-01-01</td><td>&quot;2020-01-01&quot;</td><td>1</td><td>1</td><td>3</td><td>&quot;Mi&quot;</td><td>&quot;Mittwoch&quot;</td><td>1</td><td>&quot;1. Quartal&quot;</td><td>&quot;Q1&quot;</td><td>&quot;2020-Q1&quot;</td><td>2020-03-31</td><td>2020-01-01</td><td>1</td><td>&quot;KW 01&quot;</td><td>&quot;2020 | KW 01&quot;</td><td>2019-12-30</td><td>2020-01-05</td><td>2020</td><td>2020-01-01</td><td>2020-12-31</td><td>1</td><td>&quot;Jan&quot;</td><td>&quot;Januar&quot;</td><td>2020-01-01</td><td>1</td><td>&quot;Jan 2020&quot;</td><td>&quot;Januar 2020&quot;</td><td>&quot;01/2020&quot;</td><td>2020-01-31</td><td>2020-01-02</td><td>2020-01-08</td><td>2020-01-01</td><td>2021-01-01</td><td>2019-12-31</td><td>2019-12-25</td><td>2019-12-31</td><td>2019-01-01</td><td>31</td><td>2025-05-04</td><td>true</td><td>true</td><td>true</td><td>true</td><td>false</td></tr><tr><td>2020-01-02</td><td>&quot;2020-01-02&quot;</td><td>2</td><td>2</td><td>4</td><td>&quot;Do&quot;</td><td>&quot;Donnerstag&quot;</td><td>1</td><td>&quot;1. Quartal&quot;</td><td>&quot;Q1&quot;</td><td>&quot;2020-Q1&quot;</td><td>2020-03-31</td><td>2020-01-01</td><td>1</td><td>&quot;KW 01&quot;</td><td>&quot;2020 | KW 01&quot;</td><td>2019-12-30</td><td>2020-01-05</td><td>2020</td><td>2020-01-01</td><td>2020-12-31</td><td>1</td><td>&quot;Jan&quot;</td><td>&quot;Januar&quot;</td><td>2020-01-01</td><td>2</td><td>&quot;Jan 2020&quot;</td><td>&quot;Januar 2020&quot;</td><td>&quot;01/2020&quot;</td><td>2020-01-31</td><td>2020-01-03</td><td>2020-01-09</td><td>2020-01-02</td><td>2021-01-02</td><td>2020-01-01</td><td>2019-12-26</td><td>2020-01-01</td><td>2019-01-02</td><td>31</td><td>2025-05-04</td><td>true</td><td>true</td><td>true</td><td>true</td><td>false</td></tr><tr><td>2020-01-03</td><td>&quot;2020-01-03&quot;</td><td>3</td><td>3</td><td>5</td><td>&quot;Fr&quot;</td><td>&quot;Freitag&quot;</td><td>1</td><td>&quot;1. Quartal&quot;</td><td>&quot;Q1&quot;</td><td>&quot;2020-Q1&quot;</td><td>2020-03-31</td><td>2020-01-01</td><td>1</td><td>&quot;KW 01&quot;</td><td>&quot;2020 | KW 01&quot;</td><td>2019-12-30</td><td>2020-01-05</td><td>2020</td><td>2020-01-01</td><td>2020-12-31</td><td>1</td><td>&quot;Jan&quot;</td><td>&quot;Januar&quot;</td><td>2020-01-01</td><td>3</td><td>&quot;Jan 2020&quot;</td><td>&quot;Januar 2020&quot;</td><td>&quot;01/2020&quot;</td><td>2020-01-31</td><td>2020-01-04</td><td>2020-01-10</td><td>2020-01-03</td><td>2021-01-03</td><td>2020-01-02</td><td>2019-12-27</td><td>2020-01-02</td><td>2019-01-03</td><td>31</td><td>2025-05-04</td><td>true</td><td>true</td><td>true</td><td>true</td><td>false</td></tr><tr><td>2020-01-04</td><td>&quot;2020-01-04&quot;</td><td>4</td><td>4</td><td>6</td><td>&quot;Sa&quot;</td><td>&quot;Samstag&quot;</td><td>1</td><td>&quot;1. Quartal&quot;</td><td>&quot;Q1&quot;</td><td>&quot;2020-Q1&quot;</td><td>2020-03-31</td><td>2020-01-01</td><td>1</td><td>&quot;KW 01&quot;</td><td>&quot;2020 | KW 01&quot;</td><td>2019-12-30</td><td>2020-01-05</td><td>2020</td><td>2020-01-01</td><td>2020-12-31</td><td>1</td><td>&quot;Jan&quot;</td><td>&quot;Januar&quot;</td><td>2020-01-01</td><td>4</td><td>&quot;Jan 2020&quot;</td><td>&quot;Januar 2020&quot;</td><td>&quot;01/2020&quot;</td><td>2020-01-31</td><td>2020-01-05</td><td>2020-01-11</td><td>2020-01-04</td><td>2021-01-04</td><td>2020-01-03</td><td>2019-12-28</td><td>2020-01-03</td><td>2019-01-04</td><td>31</td><td>2025-05-04</td><td>true</td><td>true</td><td>true</td><td>true</td><td>false</td></tr><tr><td>2020-01-05</td><td>&quot;2020-01-05&quot;</td><td>5</td><td>5</td><td>7</td><td>&quot;So&quot;</td><td>&quot;Sonntag&quot;</td><td>1</td><td>&quot;1. Quartal&quot;</td><td>&quot;Q1&quot;</td><td>&quot;2020-Q1&quot;</td><td>2020-03-31</td><td>2020-01-01</td><td>1</td><td>&quot;KW 01&quot;</td><td>&quot;2020 | KW 01&quot;</td><td>2019-12-30</td><td>2020-01-05</td><td>2020</td><td>2020-01-01</td><td>2020-12-31</td><td>1</td><td>&quot;Jan&quot;</td><td>&quot;Januar&quot;</td><td>2020-01-01</td><td>5</td><td>&quot;Jan 2020&quot;</td><td>&quot;Januar 2020&quot;</td><td>&quot;01/2020&quot;</td><td>2020-01-31</td><td>2020-01-06</td><td>2020-01-12</td><td>2020-01-05</td><td>2021-01-05</td><td>2020-01-04</td><td>2019-12-29</td><td>2020-01-04</td><td>2019-01-05</td><td>31</td><td>2025-05-04</td><td>true</td><td>true</td><td>true</td><td>true</td><td>false</td></tr><tr><td>&hellip;</td><td>&hellip;</td><td>&hellip;</td><td>&hellip;</td><td>&hellip;</td><td>&hellip;</td><td>&hellip;</td><td>&hellip;</td><td>&hellip;</td><td>&hellip;</td><td>&hellip;</td><td>&hellip;</td><td>&hellip;</td><td>&hellip;</td><td>&hellip;</td><td>&hellip;</td><td>&hellip;</td><td>&hellip;</td><td>&hellip;</td><td>&hellip;</td><td>&hellip;</td><td>&hellip;</td><td>&hellip;</td><td>&hellip;</td><td>&hellip;</td><td>&hellip;</td><td>&hellip;</td><td>&hellip;</td><td>&hellip;</td><td>&hellip;</td><td>&hellip;</td><td>&hellip;</td><td>&hellip;</td><td>&hellip;</td><td>&hellip;</td><td>&hellip;</td><td>&hellip;</td><td>&hellip;</td><td>&hellip;</td><td>&hellip;</td><td>&hellip;</td><td>&hellip;</td><td>&hellip;</td><td>&hellip;</td><td>&hellip;</td></tr><tr><td>2030-12-27</td><td>&quot;2030-12-27&quot;</td><td>27</td><td>361</td><td>5</td><td>&quot;Fr&quot;</td><td>&quot;Freitag&quot;</td><td>4</td><td>&quot;4. Quartal&quot;</td><td>&quot;Q4&quot;</td><td>&quot;2030-Q4&quot;</td><td>2030-12-31</td><td>2030-10-01</td><td>52</td><td>&quot;KW 52&quot;</td><td>&quot;2030 | KW 52&quot;</td><td>2030-12-23</td><td>2030-12-29</td><td>2030</td><td>2030-01-01</td><td>2030-12-31</td><td>12</td><td>&quot;Dez&quot;</td><td>&quot;Dezember&quot;</td><td>2030-12-01</td><td>88</td><td>&quot;Dez 2030&quot;</td><td>&quot;Dezember 2030&quot;</td><td>&quot;12/2030&quot;</td><td>2030-12-31</td><td>2030-12-28</td><td>2031-01-03</td><td>2030-12-27</td><td>2031-12-27</td><td>2030-12-26</td><td>2030-12-20</td><td>2030-12-26</td><td>2029-12-27</td><td>31</td><td>2025-05-04</td><td>true</td><td>true</td><td>true</td><td>true</td><td>false</td></tr><tr><td>2030-12-28</td><td>&quot;2030-12-28&quot;</td><td>28</td><td>362</td><td>6</td><td>&quot;Sa&quot;</td><td>&quot;Samstag&quot;</td><td>4</td><td>&quot;4. Quartal&quot;</td><td>&quot;Q4&quot;</td><td>&quot;2030-Q4&quot;</td><td>2030-12-31</td><td>2030-10-01</td><td>52</td><td>&quot;KW 52&quot;</td><td>&quot;2030 | KW 52&quot;</td><td>2030-12-23</td><td>2030-12-29</td><td>2030</td><td>2030-01-01</td><td>2030-12-31</td><td>12</td><td>&quot;Dez&quot;</td><td>&quot;Dezember&quot;</td><td>2030-12-01</td><td>89</td><td>&quot;Dez 2030&quot;</td><td>&quot;Dezember 2030&quot;</td><td>&quot;12/2030&quot;</td><td>2030-12-31</td><td>2030-12-29</td><td>2031-01-04</td><td>2030-12-28</td><td>2031-12-28</td><td>2030-12-27</td><td>2030-12-21</td><td>2030-12-27</td><td>2029-12-28</td><td>31</td><td>2025-05-04</td><td>true</td><td>true</td><td>true</td><td>true</td><td>false</td></tr><tr><td>2030-12-29</td><td>&quot;2030-12-29&quot;</td><td>29</td><td>363</td><td>7</td><td>&quot;So&quot;</td><td>&quot;Sonntag&quot;</td><td>4</td><td>&quot;4. Quartal&quot;</td><td>&quot;Q4&quot;</td><td>&quot;2030-Q4&quot;</td><td>2030-12-31</td><td>2030-10-01</td><td>52</td><td>&quot;KW 52&quot;</td><td>&quot;2030 | KW 52&quot;</td><td>2030-12-23</td><td>2030-12-29</td><td>2030</td><td>2030-01-01</td><td>2030-12-31</td><td>12</td><td>&quot;Dez&quot;</td><td>&quot;Dezember&quot;</td><td>2030-12-01</td><td>90</td><td>&quot;Dez 2030&quot;</td><td>&quot;Dezember 2030&quot;</td><td>&quot;12/2030&quot;</td><td>2030-12-31</td><td>2030-12-30</td><td>2031-01-05</td><td>2030-12-29</td><td>2031-12-29</td><td>2030-12-28</td><td>2030-12-22</td><td>2030-12-28</td><td>2029-12-29</td><td>31</td><td>2025-05-04</td><td>true</td><td>true</td><td>true</td><td>true</td><td>false</td></tr><tr><td>2030-12-30</td><td>&quot;2030-12-30&quot;</td><td>30</td><td>364</td><td>1</td><td>&quot;Mo&quot;</td><td>&quot;Montag&quot;</td><td>4</td><td>&quot;4. Quartal&quot;</td><td>&quot;Q4&quot;</td><td>&quot;2030-Q4&quot;</td><td>2030-12-31</td><td>2030-10-01</td><td>1</td><td>&quot;KW 01&quot;</td><td>&quot;2030 | KW 01&quot;</td><td>2030-12-30</td><td>2031-01-05</td><td>2030</td><td>2030-01-01</td><td>2030-12-31</td><td>12</td><td>&quot;Dez&quot;</td><td>&quot;Dezember&quot;</td><td>2030-12-01</td><td>91</td><td>&quot;Dez 2030&quot;</td><td>&quot;Dezember 2030&quot;</td><td>&quot;12/2030&quot;</td><td>2030-12-31</td><td>2030-12-31</td><td>2031-01-06</td><td>2030-12-30</td><td>2031-12-30</td><td>2030-12-29</td><td>2030-12-23</td><td>2030-12-29</td><td>2029-12-30</td><td>31</td><td>2025-05-04</td><td>true</td><td>true</td><td>true</td><td>true</td><td>false</td></tr><tr><td>2030-12-31</td><td>&quot;2030-12-31&quot;</td><td>31</td><td>365</td><td>2</td><td>&quot;Di&quot;</td><td>&quot;Dienstag&quot;</td><td>4</td><td>&quot;4. Quartal&quot;</td><td>&quot;Q4&quot;</td><td>&quot;2030-Q4&quot;</td><td>2030-12-31</td><td>2030-10-01</td><td>1</td><td>&quot;KW 01&quot;</td><td>&quot;2030 | KW 01&quot;</td><td>2030-12-30</td><td>2031-01-05</td><td>2030</td><td>2030-01-01</td><td>2030-12-31</td><td>12</td><td>&quot;Dez&quot;</td><td>&quot;Dezember&quot;</td><td>2030-12-01</td><td>92</td><td>&quot;Dez 2030&quot;</td><td>&quot;Dezember 2030&quot;</td><td>&quot;12/2030&quot;</td><td>2030-12-31</td><td>2031-01-01</td><td>2031-01-07</td><td>2030-12-31</td><td>2031-12-31</td><td>2030-12-30</td><td>2030-12-24</td><td>2030-12-30</td><td>2029-12-31</td><td>31</td><td>2025-05-04</td><td>true</td><td>true</td><td>true</td><td>true</td><td>false</td></tr></tbody></table></div>"
      ],
      "text/plain": [
       "shape: (4_018, 45)\n",
       "┌───────────┬───────────┬───────────┬───────────┬───┬───────────┬───────────┬───────────┬──────────┐\n",
       "│ pk_Datum  ┆ Datum_DIN ┆ Tag_im_Mo ┆ Tag_im_Ja ┆ … ┆ Ist_Diese ┆ Ist_Diese ┆ Ist_Diese ┆ Ist_Heut │\n",
       "│ ---       ┆ ---       ┆ nat       ┆ hr        ┆   ┆ _Woche    ┆ s_Quartal ┆ s_Jahr    ┆ e        │\n",
       "│ date      ┆ str       ┆ ---       ┆ ---       ┆   ┆ ---       ┆ ---       ┆ ---       ┆ ---      │\n",
       "│           ┆           ┆ i8        ┆ i16       ┆   ┆ bool      ┆ bool      ┆ bool      ┆ bool     │\n",
       "╞═══════════╪═══════════╪═══════════╪═══════════╪═══╪═══════════╪═══════════╪═══════════╪══════════╡\n",
       "│ 2020-01-0 ┆ 2020-01-0 ┆ 1         ┆ 1         ┆ … ┆ true      ┆ true      ┆ true      ┆ false    │\n",
       "│ 1         ┆ 1         ┆           ┆           ┆   ┆           ┆           ┆           ┆          │\n",
       "│ 2020-01-0 ┆ 2020-01-0 ┆ 2         ┆ 2         ┆ … ┆ true      ┆ true      ┆ true      ┆ false    │\n",
       "│ 2         ┆ 2         ┆           ┆           ┆   ┆           ┆           ┆           ┆          │\n",
       "│ 2020-01-0 ┆ 2020-01-0 ┆ 3         ┆ 3         ┆ … ┆ true      ┆ true      ┆ true      ┆ false    │\n",
       "│ 3         ┆ 3         ┆           ┆           ┆   ┆           ┆           ┆           ┆          │\n",
       "│ 2020-01-0 ┆ 2020-01-0 ┆ 4         ┆ 4         ┆ … ┆ true      ┆ true      ┆ true      ┆ false    │\n",
       "│ 4         ┆ 4         ┆           ┆           ┆   ┆           ┆           ┆           ┆          │\n",
       "│ 2020-01-0 ┆ 2020-01-0 ┆ 5         ┆ 5         ┆ … ┆ true      ┆ true      ┆ true      ┆ false    │\n",
       "│ 5         ┆ 5         ┆           ┆           ┆   ┆           ┆           ┆           ┆          │\n",
       "│ …         ┆ …         ┆ …         ┆ …         ┆ … ┆ …         ┆ …         ┆ …         ┆ …        │\n",
       "│ 2030-12-2 ┆ 2030-12-2 ┆ 27        ┆ 361       ┆ … ┆ true      ┆ true      ┆ true      ┆ false    │\n",
       "│ 7         ┆ 7         ┆           ┆           ┆   ┆           ┆           ┆           ┆          │\n",
       "│ 2030-12-2 ┆ 2030-12-2 ┆ 28        ┆ 362       ┆ … ┆ true      ┆ true      ┆ true      ┆ false    │\n",
       "│ 8         ┆ 8         ┆           ┆           ┆   ┆           ┆           ┆           ┆          │\n",
       "│ 2030-12-2 ┆ 2030-12-2 ┆ 29        ┆ 363       ┆ … ┆ true      ┆ true      ┆ true      ┆ false    │\n",
       "│ 9         ┆ 9         ┆           ┆           ┆   ┆           ┆           ┆           ┆          │\n",
       "│ 2030-12-3 ┆ 2030-12-3 ┆ 30        ┆ 364       ┆ … ┆ true      ┆ true      ┆ true      ┆ false    │\n",
       "│ 0         ┆ 0         ┆           ┆           ┆   ┆           ┆           ┆           ┆          │\n",
       "│ 2030-12-3 ┆ 2030-12-3 ┆ 31        ┆ 365       ┆ … ┆ true      ┆ true      ┆ true      ┆ false    │\n",
       "│ 1         ┆ 1         ┆           ┆           ┆   ┆           ┆           ┆           ┆          │\n",
       "└───────────┴───────────┴───────────┴───────────┴───┴───────────┴───────────┴───────────┴──────────┘"
      ]
     },
     "execution_count": 11,
     "metadata": {},
     "output_type": "execute_result"
    }
   ],
   "source": [
    "df_date.collect()"
   ]
  }
 ],
 "metadata": {
  "kernelspec": {
   "display_name": "venv",
   "language": "python",
   "name": "python3"
  },
  "language_info": {
   "codemirror_mode": {
    "name": "ipython",
    "version": 3
   },
   "file_extension": ".py",
   "mimetype": "text/x-python",
   "name": "python",
   "nbconvert_exporter": "python",
   "pygments_lexer": "ipython3",
   "version": "3.13.0"
  }
 },
 "nbformat": 4,
 "nbformat_minor": 5
}
