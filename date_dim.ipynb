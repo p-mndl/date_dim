{
 "cells": [
  {
   "cell_type": "code",
   "execution_count": 76,
   "id": "16b5f927",
   "metadata": {},
   "outputs": [],
   "source": [
    "import polars as pl\n",
    "import datetime as dt"
   ]
  },
  {
   "cell_type": "code",
   "execution_count": 77,
   "id": "61cbaced",
   "metadata": {},
   "outputs": [],
   "source": [
    "dt_from = dt.date(2020, 1, 1)\n",
    "dt_to = dt.date(2030, 12, 31)"
   ]
  },
  {
   "cell_type": "code",
   "execution_count": 78,
   "id": "b272324f",
   "metadata": {},
   "outputs": [],
   "source": [
    "date_series = pl.date_range(\n",
    "    dt_from,\n",
    "    dt_to,\n",
    "    '1d',\n",
    "    eager=True\n",
    ")"
   ]
  },
  {
   "cell_type": "code",
   "execution_count": 84,
   "id": "66644cad",
   "metadata": {},
   "outputs": [],
   "source": [
    "df = date_series.to_frame('date')"
   ]
  },
  {
   "cell_type": "code",
   "execution_count": 80,
   "id": "b4b614b8",
   "metadata": {},
   "outputs": [],
   "source": [
    "mapping_weekday_short = {\n",
    "    1: 'Mo',\n",
    "    2: 'Di',\n",
    "    3: 'Mi',\n",
    "    4: 'Do',\n",
    "    5: 'Fr',\n",
    "    6: 'Sa',\n",
    "    7: 'So'\n",
    "}\n",
    "mapping_weekday_long = {\n",
    "    1: 'Montag',\n",
    "    2: 'Dienstag',\n",
    "    3: 'Mittwoch',\n",
    "    4: 'Donnerstag',\n",
    "    5: 'Freitag',\n",
    "    6: 'Samstag',\n",
    "    7: 'Sonntag'\n",
    "}\n",
    "mapping_month_short = {\n",
    "    1: 'Jan',\n",
    "    2: 'Feb',\n",
    "    3: 'Mrz',\n",
    "    4: 'Apr',\n",
    "    5: 'Mai',\n",
    "    6: 'Jun',\n",
    "    7: 'Jul',\n",
    "    8: 'Aug',\n",
    "    9: 'Sep',\n",
    "    10: 'Okt',\n",
    "    11: 'Nov',\n",
    "    12: 'Dez'\n",
    "}\n",
    "mapping_month_long = {\n",
    "    1: 'Januar',\n",
    "    2: 'Februar',\n",
    "    3: 'März',\n",
    "    4: 'April',\n",
    "    5: 'Mai',\n",
    "    6: 'Juni',\n",
    "    7: 'Juli',\n",
    "    8: 'August',\n",
    "    9: 'September',\n",
    "    10: 'Oktober',\n",
    "    11: 'November',\n",
    "    12: 'Dezember'\n",
    "}"
   ]
  },
  {
   "cell_type": "code",
   "execution_count": null,
   "id": "c319f99f",
   "metadata": {},
   "outputs": [
    {
     "data": {
      "text/html": [
       "<div><style>\n",
       ".dataframe > thead > tr,\n",
       ".dataframe > tbody > tr {\n",
       "  text-align: right;\n",
       "  white-space: pre-wrap;\n",
       "}\n",
       "</style>\n",
       "<small>shape: (4_018, 4)</small><table border=\"1\" class=\"dataframe\"><thead><tr><th>pk_Datum</th><th>Wochentag_kurz</th><th>Kalenderwoche_Anfang</th><th>Kalenderwoche_Ende</th></tr><tr><td>date</td><td>str</td><td>date</td><td>date</td></tr></thead><tbody><tr><td>2020-01-01</td><td>&quot;Mi&quot;</td><td>2019-12-30</td><td>2020-01-05</td></tr><tr><td>2020-01-02</td><td>&quot;Do&quot;</td><td>2019-12-30</td><td>2020-01-05</td></tr><tr><td>2020-01-03</td><td>&quot;Fr&quot;</td><td>2019-12-30</td><td>2020-01-05</td></tr><tr><td>2020-01-04</td><td>&quot;Sa&quot;</td><td>2019-12-30</td><td>2020-01-05</td></tr><tr><td>2020-01-05</td><td>&quot;So&quot;</td><td>2019-12-30</td><td>2020-01-05</td></tr><tr><td>&hellip;</td><td>&hellip;</td><td>&hellip;</td><td>&hellip;</td></tr><tr><td>2030-12-27</td><td>&quot;Fr&quot;</td><td>2030-12-23</td><td>2030-12-29</td></tr><tr><td>2030-12-28</td><td>&quot;Sa&quot;</td><td>2030-12-23</td><td>2030-12-29</td></tr><tr><td>2030-12-29</td><td>&quot;So&quot;</td><td>2030-12-23</td><td>2030-12-29</td></tr><tr><td>2030-12-30</td><td>&quot;Mo&quot;</td><td>2030-12-30</td><td>2031-01-05</td></tr><tr><td>2030-12-31</td><td>&quot;Di&quot;</td><td>2030-12-30</td><td>2031-01-05</td></tr></tbody></table></div>"
      ],
      "text/plain": [
       "shape: (4_018, 4)\n",
       "┌────────────┬────────────────┬──────────────────────┬────────────────────┐\n",
       "│ pk_Datum   ┆ Wochentag_kurz ┆ Kalenderwoche_Anfang ┆ Kalenderwoche_Ende │\n",
       "│ ---        ┆ ---            ┆ ---                  ┆ ---                │\n",
       "│ date       ┆ str            ┆ date                 ┆ date               │\n",
       "╞════════════╪════════════════╪══════════════════════╪════════════════════╡\n",
       "│ 2020-01-01 ┆ Mi             ┆ 2019-12-30           ┆ 2020-01-05         │\n",
       "│ 2020-01-02 ┆ Do             ┆ 2019-12-30           ┆ 2020-01-05         │\n",
       "│ 2020-01-03 ┆ Fr             ┆ 2019-12-30           ┆ 2020-01-05         │\n",
       "│ 2020-01-04 ┆ Sa             ┆ 2019-12-30           ┆ 2020-01-05         │\n",
       "│ 2020-01-05 ┆ So             ┆ 2019-12-30           ┆ 2020-01-05         │\n",
       "│ …          ┆ …              ┆ …                    ┆ …                  │\n",
       "│ 2030-12-27 ┆ Fr             ┆ 2030-12-23           ┆ 2030-12-29         │\n",
       "│ 2030-12-28 ┆ Sa             ┆ 2030-12-23           ┆ 2030-12-29         │\n",
       "│ 2030-12-29 ┆ So             ┆ 2030-12-23           ┆ 2030-12-29         │\n",
       "│ 2030-12-30 ┆ Mo             ┆ 2030-12-30           ┆ 2031-01-05         │\n",
       "│ 2030-12-31 ┆ Di             ┆ 2030-12-30           ┆ 2031-01-05         │\n",
       "└────────────┴────────────────┴──────────────────────┴────────────────────┘"
      ]
     },
     "execution_count": 118,
     "metadata": {},
     "output_type": "execute_result"
    }
   ],
   "source": [
    "df_date = (df\n",
    "            .with_columns(\n",
    "               Datum_DIN = pl.col('date').dt.to_string('iso'),\n",
    "               Tag_im_Monat = pl.col('date').dt.day(),\n",
    "               Tag_im_Jahr = pl.col('date').dt.ordinal_day(),\n",
    "               Wochentag_numerisch = pl.col('date').dt.weekday(),\n",
    "               Wochentag_kurz = pl.col('date').dt.weekday().replace_strict(mapping_weekday_short),\n",
    "               Wochentag_lang = pl.col('date').dt.weekday().replace_strict(mapping_weekday_long),\n",
    "               Quartal_numerisch = pl.col('date').dt.quarter(),\n",
    "               Quartal_lang = pl.col('date').dt.quarter().cast(pl.String) + '. Quartal',\n",
    "               Quartal_kurz = 'Q' + pl.col('date').dt.quarter().cast(pl.String),\n",
    "               Quartal_Jahr = pl.col('date').dt.year().cast(pl.String) + '-Q' + pl.col('date').dt.quarter().cast(pl.String),\n",
    "               Quartalsende = pl.date(pl.col('date').dt.year(), pl.col('date').dt.quarter() * 3, 1).dt.month_end(), #end of quarter\n",
    "               Quartalsanfang = pl.date(pl.col('date').dt.year(), (pl.col('date').dt.quarter() * 3) - 2, 1).dt.month_start(), #begin of quarter\n",
    "               Kalenderwoche_numerisch = pl.col('date').dt.week(),\n",
    "               Kalenderwoche_kurz = 'KW ' + pl.col('date').dt.week().cast(pl.String).str.zfill(2),\n",
    "               Kalenderwoche_Jahr = pl.col('date').dt.year().cast(pl.String) + ' | KW ' + pl.col('date').dt.week().cast(pl.String).str.zfill(2),\n",
    "               Kalenderwoche_Anfang = pl.col('date').dt.offset_by('-' + ((pl.col('date').dt.weekday()) - 1).cast(pl.String) + 'd'),\n",
    "               Kalenderwoche_Ende = pl.col('date').dt.offset_by((7 - (pl.col('date').dt.weekday())).cast(pl.String) + 'd'),\n",
    "               Jahr = pl.col('date').dt.year(),\n",
    "               Jahr_Anfang = pl.date(pl.col('date').dt.year(), 1, 1),\n",
    "               Jahr_Ende = pl.date(pl.col('date').dt.year(), 12, 31),\n",
    "               Monat_numerisch = pl.col('date').dt.month(),\n",
    "               Monat_kurz = pl.col('date').dt.month().replace_strict(mapping_month_short),\n",
    "               Monat_lang = pl.col('date').dt.month().replace_strict(mapping_month_long),\n",
    "               Monat_Anfang = pl.date(pl.col('date').dt.year(), pl.col('date').dt.month(), 1),\n",
    "            )\n",
    "            .with_columns(\n",
    "               Quartal_Tage = (pl.col('date') - pl.col('Quartalsanfang')).dt.total_days() + 1, #day count in current quarter\n",
    "               Jahr_Tage = (pl.col('date') - pl.col('Jahr_Anfang')).dt.total_days() + 1,\n",
    "               Monat_Jahr_kurz = pl.col('Monat_kurz') + ' ' + pl.col('Jahr').cast(pl.String),\n",
    "               Monat_Jahr_lang = pl.col('Monat_lang') + ' ' + pl.col('Jahr').cast(pl.String),\n",
    "               Monat_Jahr_numerisch = pl.col('Monat_numerisch').cast(pl.String).str.zfill(2) + '/' + pl.col('Jahr').cast(pl.String),\n",
    "               Monat_Ende = pl.col('Monat_Anfang').dt.month_end(),               \n",
    "            )\n",
    "            .with_columns(                \n",
    "                Monat_Anzahl_Tage = pl.col('Monat_Ende').dt.day(),\n",
    "                pk_Datum = 'date'                \n",
    "            )\n",
    "            .select(pl.exclude('date'))\n",
    "           )\n",
    "\n",
    "# to add in view\n",
    "# Heute\n",
    "# Folgetag\n",
    "# Vortag\n",
    "# Ist_Monatserster\n",
    "# Ist_Monatsletzter\n",
    "# Ist_Diese_Woche\n",
    "# Ist_Dieses_Quartal\n",
    "# Ist_Dieses_Jahr\n",
    "# Ist_Quartalsanfang\n",
    "# Ist_Quartalsende\n"
   ]
  }
 ],
 "metadata": {
  "kernelspec": {
   "display_name": "venv",
   "language": "python",
   "name": "python3"
  },
  "language_info": {
   "codemirror_mode": {
    "name": "ipython",
    "version": 3
   },
   "file_extension": ".py",
   "mimetype": "text/x-python",
   "name": "python",
   "nbconvert_exporter": "python",
   "pygments_lexer": "ipython3",
   "version": "3.13.0"
  }
 },
 "nbformat": 4,
 "nbformat_minor": 5
}
